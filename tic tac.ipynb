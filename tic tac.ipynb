{
 "cells": [
  {
   "cell_type": "code",
   "execution_count": null,
   "id": "8ca530d7-1a6e-40e8-825c-5ce6df281df1",
   "metadata": {},
   "outputs": [
    {
     "name": "stdout",
     "output_type": "stream",
     "text": [
      "\n",
      " | | \n",
      " | | \n",
      " | | \n",
      "\n"
     ]
    },
    {
     "name": "stdin",
     "output_type": "stream",
     "text": [
      "player X,choose your position (1-9): 5\n"
     ]
    },
    {
     "name": "stdout",
     "output_type": "stream",
     "text": [
      "pos already there. TRY again\n"
     ]
    },
    {
     "name": "stdin",
     "output_type": "stream",
     "text": [
      "player X,choose your position (1-9): 1\n"
     ]
    },
    {
     "name": "stdout",
     "output_type": "stream",
     "text": [
      "pos already there. TRY again\n"
     ]
    }
   ],
   "source": [
    "#game -OX\n",
    "board=[\" \" for _ in range(9)]\n",
    "def display_board(board):\n",
    "    print()\n",
    "    print(f\"{board[0]}|{board[1]}|{board[2]}\")\n",
    "    print(f\"{board[3]}|{board[4]}|{board[5]}\")\n",
    "    print(f\"{board[6]}|{board[7]}|{board[8]}\")\n",
    "    print()\n",
    "def player_move(board,player):\n",
    "    while True:\n",
    "        try:\n",
    "            position = int(input(f\"player {player},choose your position (1-9):\"))\n",
    "            if position < 1 or position > 9:\n",
    "                print(\"invalid pos , TRY again.\")\n",
    "            elif board[position -1] !=\"\":\n",
    "                print(\"pos already there. TRY again\")\n",
    "            else:\n",
    "                board[position - 1]=player\n",
    "                break\n",
    "        except ValueError:\n",
    "            print(\"plz enter a number!\")\n",
    "#loop\n",
    "current_player=\"X\"\n",
    "for _ in range(9):\n",
    "    display_board(board)\n",
    "    player_move(board,current_player)\n",
    "    if current_player == \"X\":\n",
    "        current_player = \"O\"\n",
    "    else:\n",
    "        current_player = \"X\"\n",
    "display_board(board)"
   ]
  },
  {
   "cell_type": "code",
   "execution_count": null,
   "id": "95731746-8287-408b-b5a1-d52b6e188304",
   "metadata": {},
   "outputs": [],
   "source": []
  },
  {
   "cell_type": "code",
   "execution_count": null,
   "id": "4f4f70eb-a67e-44e3-a896-78391d5dfa7d",
   "metadata": {},
   "outputs": [],
   "source": []
  }
 ],
 "metadata": {
  "kernelspec": {
   "display_name": "Python [conda env:base] *",
   "language": "python",
   "name": "conda-base-py"
  },
  "language_info": {
   "codemirror_mode": {
    "name": "ipython",
    "version": 3
   },
   "file_extension": ".py",
   "mimetype": "text/x-python",
   "name": "python",
   "nbconvert_exporter": "python",
   "pygments_lexer": "ipython3",
   "version": "3.12.7"
  }
 },
 "nbformat": 4,
 "nbformat_minor": 5
}

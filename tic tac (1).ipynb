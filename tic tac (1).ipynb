{
 "cells": [
  {
   "cell_type": "code",
   "execution_count": null,
   "id": "95731746-8287-408b-b5a1-d52b6e188304",
   "metadata": {},
   "outputs": [
    {
     "name": "stdout",
     "output_type": "stream",
     "text": [
      "\n",
      "   |   |   \n",
      "---|---|---\n",
      "   |   |   \n",
      "---|---|---\n",
      "   |   |   \n",
      "\n",
      "Player X's turn\n"
     ]
    },
    {
     "name": "stdin",
     "output_type": "stream",
     "text": [
      "Choose your move (1-9):  5\n"
     ]
    },
    {
     "name": "stdout",
     "output_type": "stream",
     "text": [
      "\n",
      "   |   |   \n",
      "---|---|---\n",
      "   | X |   \n",
      "---|---|---\n",
      "   |   |   \n",
      "\n",
      "Player O's turn\n"
     ]
    },
    {
     "name": "stdin",
     "output_type": "stream",
     "text": [
      "Choose your move (1-9):  4\\\n"
     ]
    },
    {
     "name": "stdout",
     "output_type": "stream",
     "text": [
      "Please enter a valid number.\n"
     ]
    },
    {
     "name": "stdin",
     "output_type": "stream",
     "text": [
      "Choose your move (1-9):  4\n"
     ]
    },
    {
     "name": "stdout",
     "output_type": "stream",
     "text": [
      "\n",
      "   |   |   \n",
      "---|---|---\n",
      " O | X |   \n",
      "---|---|---\n",
      "   |   |   \n",
      "\n",
      "Player X's turn\n"
     ]
    },
    {
     "name": "stdin",
     "output_type": "stream",
     "text": [
      "Choose your move (1-9):  7\n"
     ]
    },
    {
     "name": "stdout",
     "output_type": "stream",
     "text": [
      "\n",
      "   |   |   \n",
      "---|---|---\n",
      " O | X |   \n",
      "---|---|---\n",
      " X |   |   \n",
      "\n",
      "Player O's turn\n"
     ]
    },
    {
     "name": "stdin",
     "output_type": "stream",
     "text": [
      "Choose your move (1-9):  1\n"
     ]
    },
    {
     "name": "stdout",
     "output_type": "stream",
     "text": [
      "\n",
      " O |   |   \n",
      "---|---|---\n",
      " O | X |   \n",
      "---|---|---\n",
      " X |   |   \n",
      "\n",
      "Player X's turn\n"
     ]
    },
    {
     "name": "stdin",
     "output_type": "stream",
     "text": [
      "Choose your move (1-9):  3\n"
     ]
    },
    {
     "name": "stdout",
     "output_type": "stream",
     "text": [
      "\n",
      " O |   | X \n",
      "---|---|---\n",
      " O | X |   \n",
      "---|---|---\n",
      " X |   |   \n",
      "\n",
      "🎉 Player X wins! 🎉\n"
     ]
    }
   ],
   "source": [
    "# Tic Tac Toe Game\n",
    "\n",
    "def display_board(board):\n",
    "    print()\n",
    "    print(f\" {board[0]} | {board[1]} | {board[2]} \")\n",
    "    print(\"---|---|---\")\n",
    "    print(f\" {board[3]} | {board[4]} | {board[5]} \")\n",
    "    print(\"---|---|---\")\n",
    "    print(f\" {board[6]} | {board[7]} | {board[8]} \")\n",
    "    print()\n",
    "\n",
    "def check_win(board, player):\n",
    "    wins = [\n",
    "        [0, 1, 2], [3, 4, 5], [6, 7, 8],   # Rows\n",
    "        [0, 3, 6], [1, 4, 7], [2, 5, 8],   # Columns\n",
    "        [0, 4, 8], [2, 4, 6]               # Diagonals\n",
    "    ]\n",
    "    for line in wins:\n",
    "        if board[line[0]] == board[line[1]] == board[line[2]] == player:\n",
    "            return True\n",
    "    return False\n",
    "\n",
    "def check_draw(board):\n",
    "    return \" \" not in board\n",
    "\n",
    "def get_player_move(board):\n",
    "    while True:\n",
    "        try:\n",
    "            move = int(input(\"Choose your move (1-9): \"))\n",
    "            if move < 1 or move > 9:\n",
    "                print(\"Invalid number! Enter 1-9.\")\n",
    "            elif board[move - 1] != \" \":\n",
    "                print(\"That spot is already taken.\")\n",
    "            else:\n",
    "                return move - 1\n",
    "        except ValueError:\n",
    "            print(\"Please enter a valid number.\")\n",
    "\n",
    "def play_game():\n",
    "    board = [\" \"] * 9\n",
    "    current_player = \"X\"\n",
    "\n",
    "    while True:\n",
    "        display_board(board)\n",
    "        print(f\"Player {current_player}'s turn\")\n",
    "        move = get_player_move(board)\n",
    "        board[move] = current_player\n",
    "\n",
    "        if check_win(board, current_player):\n",
    "            display_board(board)\n",
    "            print(f\"🎉 Player {current_player} wins! 🎉\")\n",
    "            break\n",
    "        elif check_draw(board):\n",
    "            display_board(board)\n",
    "            print(\"It's a draw!\")\n",
    "            break\n",
    "\n",
    "        current_player = \"O\" if current_player == \"X\" else \"X\"\n",
    "\n",
    "def play_again():\n",
    "    choice = input(\"Play again? (y/n): \").lower()\n",
    "    return choice == \"y\"\n",
    "\n",
    "# Game loop\n",
    "while True:\n",
    "    play_game()\n",
    "    if not play_again():\n",
    "        print(\"Thanks for playing!\")\n",
    "        break"
   ]
  },
  {
   "cell_type": "code",
   "execution_count": null,
   "id": "7c6ed88b-d4a5-4164-8013-d1b190f960eb",
   "metadata": {},
   "outputs": [],
   "source": []
  },
  {
   "cell_type": "code",
   "execution_count": null,
   "id": "99701f89-4cf6-4ffa-8f99-fa10fd0c6801",
   "metadata": {},
   "outputs": [],
   "source": []
  }
 ],
 "metadata": {
  "kernelspec": {
   "display_name": "Python [conda env:base] *",
   "language": "python",
   "name": "conda-base-py"
  },
  "language_info": {
   "codemirror_mode": {
    "name": "ipython",
    "version": 3
   },
   "file_extension": ".py",
   "mimetype": "text/x-python",
   "name": "python",
   "nbconvert_exporter": "python",
   "pygments_lexer": "ipython3",
   "version": "3.12.7"
  }
 },
 "nbformat": 4,
 "nbformat_minor": 5
}

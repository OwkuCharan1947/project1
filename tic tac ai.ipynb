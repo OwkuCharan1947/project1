{
 "cells": [
  {
   "cell_type": "code",
   "execution_count": null,
   "id": "5c9d13ef-5365-4a4d-8978-8f9d7d13a785",
   "metadata": {},
   "outputs": [
    {
     "name": "stdout",
     "output_type": "stream",
     "text": [
      "\n",
      "   |   |   \n",
      "---|---|---\n",
      "   |   |   \n",
      "---|---|---\n",
      "   |   |   \n",
      "\n",
      "Your turn\n"
     ]
    },
    {
     "name": "stdin",
     "output_type": "stream",
     "text": [
      "Choose your move (1-9):  1\n"
     ]
    },
    {
     "name": "stdout",
     "output_type": "stream",
     "text": [
      "\n",
      " X |   |   \n",
      "---|---|---\n",
      "   |   |   \n",
      "---|---|---\n",
      "   |   |   \n",
      "\n",
      "Computer's turn\n",
      "Computer chose position 9\n",
      "\n",
      " X |   |   \n",
      "---|---|---\n",
      "   |   |   \n",
      "---|---|---\n",
      "   |   | O \n",
      "\n",
      "Your turn\n"
     ]
    },
    {
     "name": "stdin",
     "output_type": "stream",
     "text": [
      "Choose your move (1-9):  2\n"
     ]
    },
    {
     "name": "stdout",
     "output_type": "stream",
     "text": [
      "\n",
      " X | X |   \n",
      "---|---|---\n",
      "   |   |   \n",
      "---|---|---\n",
      "   |   | O \n",
      "\n",
      "Computer's turn\n",
      "Computer chose position 8\n",
      "\n",
      " X | X |   \n",
      "---|---|---\n",
      "   |   |   \n",
      "---|---|---\n",
      "   | O | O \n",
      "\n",
      "Your turn\n"
     ]
    },
    {
     "name": "stdin",
     "output_type": "stream",
     "text": [
      "Choose your move (1-9):  3\n"
     ]
    },
    {
     "name": "stdout",
     "output_type": "stream",
     "text": [
      "\n",
      " X | X | X \n",
      "---|---|---\n",
      "   |   |   \n",
      "---|---|---\n",
      "   | O | O \n",
      "\n",
      "🎉 You win!\n"
     ]
    }
   ],
   "source": [
    "import random\n",
    "\n",
    "# --- Display Board ---\n",
    "def display_board(board):\n",
    "    print()\n",
    "    print(f\" {board[0]} | {board[1]} | {board[2]} \")\n",
    "    print(\"---|---|---\")\n",
    "    print(f\" {board[3]} | {board[4]} | {board[5]} \")\n",
    "    print(\"---|---|---\")\n",
    "    print(f\" {board[6]} | {board[7]} | {board[8]} \")\n",
    "    print()\n",
    "\n",
    "# --- Check Win ---\n",
    "def check_win(board, player):\n",
    "    wins = [\n",
    "        [0, 1, 2], [3, 4, 5], [6, 7, 8],   # Rows\n",
    "        [0, 3, 6], [1, 4, 7], [2, 5, 8],   # Columns\n",
    "        [0, 4, 8], [2, 4, 6]               # Diagonals\n",
    "    ]\n",
    "    for line in wins:\n",
    "        if board[line[0]] == board[line[1]] == board[line[2]] == player:\n",
    "            return True\n",
    "    return False\n",
    "\n",
    "# --- Check Draw ---\n",
    "def check_draw(board):\n",
    "    return \" \" not in board\n",
    "\n",
    "# --- Get Player Move ---\n",
    "def get_player_move(board):\n",
    "    while True:\n",
    "        try:\n",
    "            move = int(input(\"Choose your move (1-9): \"))\n",
    "            if move < 1 or move > 9:\n",
    "                print(\"Invalid number! Enter 1-9.\")\n",
    "            elif board[move - 1] != \" \":\n",
    "                print(\"That spot is already taken.\")\n",
    "            else:\n",
    "                return move - 1\n",
    "        except ValueError:\n",
    "            print(\"Please enter a valid number.\")\n",
    "\n",
    "# --- Get Computer Move (Random) ---\n",
    "def get_computer_move(board):\n",
    "    empty_positions = [i for i, spot in enumerate(board) if spot == \" \"]\n",
    "    move = random.choice(empty_positions)\n",
    "    print(f\"Computer chose position {move + 1}\")\n",
    "    return move\n",
    "\n",
    "# --- Play Game ---\n",
    "def play_game():\n",
    "    board = [\" \"] * 9\n",
    "    player_symbol = \"X\"\n",
    "    computer_symbol = \"O\"\n",
    "    current_player = \"player\"\n",
    "\n",
    "    while True:\n",
    "        display_board(board)\n",
    "        \n",
    "        if current_player == \"player\":\n",
    "            print(\"Your turn\")\n",
    "            move = get_player_move(board)\n",
    "            board[move] = player_symbol\n",
    "        else:\n",
    "            print(\"Computer's turn\")\n",
    "            move = get_computer_move(board)\n",
    "            board[move] = computer_symbol\n",
    "\n",
    "        # Check for win or draw\n",
    "        symbol = player_symbol if current_player == \"player\" else computer_symbol\n",
    "        if check_win(board, symbol):\n",
    "            display_board(board)\n",
    "            if current_player == \"player\":\n",
    "                print(\"🎉 You win!\")\n",
    "            else:\n",
    "                print(\"💻 Computer wins!\")\n",
    "            break\n",
    "        elif check_draw(board):\n",
    "            display_board(board)\n",
    "            print(\"🤝 It's a draw!\")\n",
    "            break\n",
    "\n",
    "        # Switch turn\n",
    "        current_player = \"computer\" if current_player == \"player\" else \"player\"\n",
    "\n",
    "# --- Play Again ---\n",
    "def play_again():\n",
    "    choice = input(\"Play again? (y/n): \").lower()\n",
    "    return choice == \"y\"\n",
    "\n",
    "# --- Game Loop ---\n",
    "while True:\n",
    "    play_game()\n",
    "    if not play_again():\n",
    "        print(\"Thanks for playing!\")\n",
    "        break"
   ]
  },
  {
   "cell_type": "code",
   "execution_count": null,
   "id": "673417c6-e05e-4d66-aa90-81048bc30bec",
   "metadata": {},
   "outputs": [],
   "source": []
  }
 ],
 "metadata": {
  "kernelspec": {
   "display_name": "Python [conda env:base] *",
   "language": "python",
   "name": "conda-base-py"
  },
  "language_info": {
   "codemirror_mode": {
    "name": "ipython",
    "version": 3
   },
   "file_extension": ".py",
   "mimetype": "text/x-python",
   "name": "python",
   "nbconvert_exporter": "python",
   "pygments_lexer": "ipython3",
   "version": "3.12.7"
  }
 },
 "nbformat": 4,
 "nbformat_minor": 5
}
